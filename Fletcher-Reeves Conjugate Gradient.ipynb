{
 "cells": [
  {
   "cell_type": "code",
   "execution_count": 1,
   "metadata": {},
   "outputs": [],
   "source": [
    "#https://stackoverflow.com/questions/23566515/multiplication-of-1d-arrays-in-numpy"
   ]
  },
  {
   "cell_type": "code",
   "execution_count": 2,
   "metadata": {},
   "outputs": [],
   "source": [
    "import numpy as np\n",
    "import copy"
   ]
  },
  {
   "cell_type": "code",
   "execution_count": null,
   "metadata": {},
   "outputs": [],
   "source": []
  },
  {
   "cell_type": "code",
   "execution_count": null,
   "metadata": {},
   "outputs": [],
   "source": []
  },
  {
   "cell_type": "code",
   "execution_count": 3,
   "metadata": {},
   "outputs": [],
   "source": [
    "def f(x):\n",
    "    a=(x[0]-2)**4 + (x[0]-2*x[1])**2\n",
    "    return a"
   ]
  },
  {
   "cell_type": "code",
   "execution_count": 92,
   "metadata": {},
   "outputs": [],
   "source": [
    "def grad(x):\n",
    "    a=np.array([4*(x[0]-2)**3 +2*(x[0]-2*x[1]) , -4*(x[0]-2*x[1])] )\n",
    "    return(a)"
   ]
  },
  {
   "cell_type": "code",
   "execution_count": 5,
   "metadata": {},
   "outputs": [
    {
     "data": {
      "text/plain": [
       "array([ 8, -1])"
      ]
     },
     "execution_count": 5,
     "metadata": {},
     "output_type": "execute_result"
    }
   ],
   "source": [
    "grad((3,2))"
   ]
  },
  {
   "cell_type": "code",
   "execution_count": 6,
   "metadata": {},
   "outputs": [
    {
     "data": {
      "text/plain": [
       "matrix([[6]])"
      ]
     },
     "execution_count": 6,
     "metadata": {},
     "output_type": "execute_result"
    }
   ],
   "source": [
    "np.matrix(grad((3,2)))*(np.matrix(\"1;2\"))"
   ]
  },
  {
   "cell_type": "code",
   "execution_count": 7,
   "metadata": {},
   "outputs": [
    {
     "data": {
      "text/plain": [
       "(2, 1)"
      ]
     },
     "execution_count": 7,
     "metadata": {},
     "output_type": "execute_result"
    }
   ],
   "source": [
    "(np.matrix(grad((3,2))).T).shape"
   ]
  },
  {
   "cell_type": "code",
   "execution_count": 95,
   "metadata": {},
   "outputs": [],
   "source": [
    "def normgrad(x):\n",
    "    a=grad(x)\n",
    "    b=(a[0]**2 + a[1]**2)**(.5)\n",
    "    return b"
   ]
  },
  {
   "cell_type": "code",
   "execution_count": 35,
   "metadata": {},
   "outputs": [
    {
     "data": {
      "text/plain": [
       "11.180339887498949"
      ]
     },
     "execution_count": 35,
     "metadata": {},
     "output_type": "execute_result"
    }
   ],
   "source": [
    "normgrad(np.array([3,4]))"
   ]
  },
  {
   "cell_type": "markdown",
   "metadata": {},
   "source": [
    "# Line Search"
   ]
  },
  {
   "cell_type": "code",
   "execution_count": 52,
   "metadata": {},
   "outputs": [],
   "source": [
    "alpha=0.5\n",
    "def phi(x,alpha,d):\n",
    "    ld=d*alpha\n",
    "    y=x+ld\n",
    "    phia=f(y)\n",
    "    return phia"
   ]
  },
  {
   "cell_type": "code",
   "execution_count": 55,
   "metadata": {},
   "outputs": [
    {
     "data": {
      "text/plain": [
       "1.5"
      ]
     },
     "execution_count": 55,
     "metadata": {},
     "output_type": "execute_result"
    }
   ],
   "source": [
    "phi(np.array([0,0]),.5,np.array([3,3]))"
   ]
  },
  {
   "cell_type": "code",
   "execution_count": 56,
   "metadata": {},
   "outputs": [],
   "source": [
    "alpha1=0\n",
    "alpha2=np.inf\n",
    "alpha0=0.5 #(given in the question as x_0 = 0.5)\n",
    "rho=0.1 #( do )\n",
    "t=3\n",
    "l=[]\n",
    "l.append(alpha)"
   ]
  },
  {
   "cell_type": "code",
   "execution_count": 57,
   "metadata": {},
   "outputs": [],
   "source": [
    "def goldstein(alpha1,alpha2,x,alpha,d,t,rho):\n",
    "    cond1=True\n",
    "    cond2=False\n",
    "    val=phi(x,alpha,d) \n",
    "    while cond2==False:\n",
    "        if( phi(x,alpha,d)  > (f(x) +((grad(x)).dot(d))*rho*alpha)):\n",
    "            cond1= False\n",
    "        while cond1==False:\n",
    "            alpha2=alpha\n",
    "            alpha= (alpha1+alpha2)/2\n",
    "            l.append(alpha)\n",
    "            if (phi(x,alpha,d)  <= (f(x) +((grad(x)).dot(d))*rho*alpha)):\n",
    "                cond1=True\n",
    "            \n",
    "        if (phi(x,alpha,d)  >= f(x) +((grad(x)).dot(d))*(1-rho)*alpha): \n",
    "            cond2= True\n",
    "        else:\n",
    "            alpha1=alpha\n",
    "            if alpha2<np.inf:\n",
    "                alpha=(alpha1+alpha2)/2\n",
    "                l.append(alpha)\n",
    "            else:\n",
    "                alpha=t*alpha\n",
    "                l.append(alpha)\n",
    "    return alpha"
   ]
  },
  {
   "cell_type": "code",
   "execution_count": 87,
   "metadata": {},
   "outputs": [],
   "source": [
    "def goldstein(alpha1,alpha2,x,alpha,d,t,rho):\n",
    "    cond1=True\n",
    "    cond2=False\n",
    "    val=phi(x,alpha,d) \n",
    "    while cond2==False:\n",
    "        if( phi(x,alpha,d)  > (f(x) +((grad(x)).dot(d))*rho*alpha)):\n",
    "            cond1= False\n",
    "        while cond1==False:\n",
    "            alpha2=alpha\n",
    "            alpha= (alpha1+alpha2)/2\n",
    "            l.append(alpha)\n",
    "            if (phi(x,alpha,d)  <= (f(x) +((grad(x)).dot(d))*rho*alpha)):\n",
    "                cond1=True\n",
    "        if (phi(x,alpha,d)  >= f(x) +((grad(x)).dot(d))*(1-rho)*alpha): \n",
    "            cond2= True\n",
    "        else:\n",
    "            alpha1=alpha\n",
    "            if alpha2<np.inf:\n",
    "                alpha=(alpha1+alpha2)/2\n",
    "                l.append(alpha)\n",
    "            else:\n",
    "                alpha=t*alpha\n",
    "                l.append(alpha)\n",
    "    return alpha"
   ]
  },
  {
   "cell_type": "markdown",
   "metadata": {},
   "source": [
    "# Fletcher Reeves"
   ]
  },
  {
   "cell_type": "code",
   "execution_count": 58,
   "metadata": {},
   "outputs": [],
   "source": [
    "def p(lam,d):\n",
    "    a=lam*d\n",
    "    return a"
   ]
  },
  {
   "cell_type": "code",
   "execution_count": 59,
   "metadata": {},
   "outputs": [],
   "source": [
    "def graddiff(y2,y1):\n",
    "    a=grad(y2)\n",
    "    b=grad(y1)\n",
    "    c=b-a\n",
    "    return c"
   ]
  },
  {
   "cell_type": "code",
   "execution_count": 60,
   "metadata": {},
   "outputs": [],
   "source": [
    "def identity():\n",
    "    a=np.matrix(\"1,0;0,1\")\n",
    "    return a"
   ]
  },
  {
   "cell_type": "code",
   "execution_count": 61,
   "metadata": {},
   "outputs": [],
   "source": [
    "def D2(D1,p,q):\n",
    "    a=np.matrix(p) #dimension is 1x2\n",
    "    b=np.matrix(q) #dimension is 1x2\n",
    "    ppt=a.T*a\n",
    "    ptp=a*a.T\n",
    "    qqt=b.T*b\n",
    "    term2=ppt/ptp\n",
    "    term3=(D1*qqt*D1)/(q*D1*q.T)\n",
    "    final=D1 + term2 - term3 \n",
    "    return final"
   ]
  },
  {
   "cell_type": "markdown",
   "metadata": {},
   "source": [
    "# Algorithm"
   ]
  },
  {
   "cell_type": "code",
   "execution_count": 62,
   "metadata": {},
   "outputs": [],
   "source": [
    "def dfponeiter(epsilon,xold,D):\n",
    "    #listx=[]\n",
    "    #listy=[]\n",
    "    #listdirec=[]\n",
    "    #k=1\n",
    "    #j=1\n",
    "    #listx.append(xold)\n",
    "    #y=copy.deepcopy(xold)\n",
    "    #listy.append(y)\n",
    "    call=DFPone(epsilon,y,xold,j,k,listx,listy,listdirec,D)\n",
    "    return call"
   ]
  },
  {
   "cell_type": "code",
   "execution_count": 81,
   "metadata": {},
   "outputs": [],
   "source": [
    "def FRGfull(epsilon,xold):\n",
    "    listx=[]\n",
    "    listy=[]\n",
    "    listdirec=[]\n",
    "    k=1\n",
    "    j=1\n",
    "    d=-grad(xold)\n",
    "    listx.append(xold)\n",
    "    listy.append(xold)\n",
    "    cond=True\n",
    "    while cond==True:\n",
    "        print(k)\n",
    "        cond,k,a1,a2,a3,a4=FRGone(cond,epsilon,listy[-1],j,k,listx,listy,listdirec,d)\n",
    "    return (k,a1,a2,a3,a4)"
   ]
  },
  {
   "cell_type": "code",
   "execution_count": 90,
   "metadata": {},
   "outputs": [],
   "source": [
    "def FRGone(cond,epsilon,y,j,k,listx,listy,listdirec,d):\n",
    "    if  normgrad(y)< epsilon :\n",
    "        cond =False\n",
    "        return (cond,k,j,listx,listy,listdirec)\n",
    "    elif j==1 :\n",
    "        listy.append(y)\n",
    "        y1= copy.deepcopy(y)\n",
    "        d1=d\n",
    "        listdirec.append(d1)\n",
    "        lam=goldstein(0,np.inf,y1,0.5,d1,2,.1)\n",
    "        ld= d1*lam\n",
    "        y2 = y1+ ld\n",
    "        listy.append(y2)\n",
    "        g=-grad(y2)\n",
    "        term2= (normgrad(y2)/normgrad(y1))**2\n",
    "        d2 = g + d1*term2 \n",
    "        d=d2\n",
    "        listdirec.append(d2)\n",
    "        j =j+1\n",
    "        rr= FRGone(cond,epsilon,y2,j,k,listx,listy,listdirec,d)\n",
    "        return rr\n",
    "    else:\n",
    "        y2 =copy.deepcopy(y)\n",
    "        d2=d\n",
    "        listdirec.append(d2)\n",
    "        lam=goldstein(0,np.inf,y2,0.5,d2,2,.1)\n",
    "        ld = d2*lam\n",
    "        y3 = y2 +ld\n",
    "        listy.append(y3)\n",
    "        listx.append(y3)\n",
    "        y1 =y3\n",
    "        k=k+1\n",
    "        d1=-grad(y1)\n",
    "    return (cond,k,j,listx,listy,listdirec)    \n",
    "        "
   ]
  },
  {
   "cell_type": "markdown",
   "metadata": {},
   "source": [
    "# Outputs"
   ]
  },
  {
   "cell_type": "code",
   "execution_count": 93,
   "metadata": {},
   "outputs": [
    {
     "name": "stdout",
     "output_type": "stream",
     "text": [
      "1\n",
      "2\n",
      "3\n",
      "4\n",
      "5\n",
      "6\n",
      "7\n",
      "8\n",
      "9\n",
      "10\n",
      "11\n",
      "12\n",
      "13\n",
      "14\n",
      "15\n",
      "16\n",
      "17\n",
      "18\n",
      "19\n",
      "20\n",
      "21\n",
      "22\n",
      "23\n",
      "24\n",
      "25\n",
      "26\n",
      "27\n",
      "28\n",
      "29\n",
      "30\n",
      "31\n",
      "32\n",
      "33\n",
      "34\n",
      "35\n",
      "36\n",
      "37\n",
      "38\n",
      "39\n",
      "40\n",
      "41\n",
      "42\n",
      "43\n",
      "44\n",
      "45\n",
      "46\n",
      "47\n",
      "48\n",
      "49\n",
      "50\n",
      "51\n",
      "52\n",
      "53\n",
      "54\n",
      "55\n",
      "56\n",
      "57\n",
      "58\n",
      "59\n",
      "60\n",
      "61\n",
      "62\n",
      "63\n",
      "64\n",
      "65\n",
      "66\n",
      "67\n",
      "68\n",
      "69\n",
      "70\n",
      "71\n",
      "72\n",
      "73\n",
      "74\n",
      "75\n",
      "76\n",
      "77\n",
      "78\n",
      "79\n",
      "80\n",
      "81\n",
      "82\n",
      "83\n",
      "84\n",
      "85\n",
      "86\n",
      "87\n",
      "88\n",
      "89\n",
      "90\n",
      "91\n",
      "92\n",
      "93\n",
      "94\n",
      "95\n",
      "96\n",
      "97\n",
      "98\n",
      "99\n",
      "100\n",
      "101\n",
      "102\n",
      "103\n",
      "104\n",
      "105\n",
      "106\n",
      "107\n",
      "108\n",
      "109\n",
      "110\n",
      "111\n",
      "112\n",
      "113\n",
      "114\n",
      "115\n",
      "116\n",
      "117\n",
      "118\n",
      "119\n",
      "120\n",
      "121\n",
      "122\n",
      "123\n",
      "124\n",
      "125\n",
      "126\n",
      "127\n",
      "128\n",
      "129\n",
      "130\n",
      "131\n",
      "132\n",
      "133\n",
      "134\n",
      "135\n",
      "136\n",
      "137\n",
      "138\n",
      "139\n",
      "140\n",
      "141\n",
      "142\n",
      "143\n",
      "144\n",
      "145\n",
      "146\n",
      "147\n",
      "148\n",
      "149\n",
      "150\n",
      "151\n",
      "152\n",
      "153\n",
      "154\n",
      "155\n",
      "156\n",
      "157\n",
      "158\n",
      "159\n",
      "160\n",
      "161\n",
      "162\n",
      "163\n",
      "164\n",
      "165\n",
      "166\n",
      "167\n",
      "168\n",
      "169\n",
      "170\n",
      "171\n",
      "172\n",
      "173\n",
      "174\n",
      "175\n",
      "176\n",
      "177\n",
      "178\n",
      "179\n",
      "180\n",
      "181\n",
      "182\n",
      "183\n",
      "184\n",
      "185\n",
      "186\n",
      "187\n",
      "188\n",
      "189\n",
      "190\n",
      "191\n",
      "192\n",
      "193\n",
      "194\n",
      "195\n",
      "196\n",
      "197\n",
      "198\n",
      "199\n",
      "200\n",
      "201\n",
      "202\n",
      "203\n",
      "204\n",
      "205\n",
      "206\n",
      "207\n",
      "208\n",
      "209\n",
      "210\n",
      "211\n",
      "212\n",
      "213\n",
      "214\n",
      "215\n",
      "216\n",
      "217\n",
      "218\n",
      "219\n",
      "220\n",
      "221\n",
      "222\n"
     ]
    },
    {
     "ename": "KeyboardInterrupt",
     "evalue": "",
     "output_type": "error",
     "traceback": [
      "\u001b[0;31m---------------------------------------------------------------------------\u001b[0m",
      "\u001b[0;31mKeyboardInterrupt\u001b[0m                         Traceback (most recent call last)",
      "\u001b[0;32m<ipython-input-93-db64a4fe0acf>\u001b[0m in \u001b[0;36m<module>\u001b[0;34m\u001b[0m\n\u001b[0;32m----> 1\u001b[0;31m \u001b[0mfull\u001b[0m\u001b[0;34m=\u001b[0m\u001b[0mFRGfull\u001b[0m\u001b[0;34m(\u001b[0m\u001b[0;36m.01\u001b[0m\u001b[0;34m,\u001b[0m\u001b[0;34m(\u001b[0m\u001b[0;36m0\u001b[0m\u001b[0;34m,\u001b[0m\u001b[0;36m0\u001b[0m\u001b[0;34m)\u001b[0m\u001b[0;34m)\u001b[0m\u001b[0;34m\u001b[0m\u001b[0m\n\u001b[0m",
      "\u001b[0;32m<ipython-input-81-10a2bb3c226e>\u001b[0m in \u001b[0;36mFRGfull\u001b[0;34m(epsilon, xold)\u001b[0m\n\u001b[1;32m     11\u001b[0m     \u001b[0;32mwhile\u001b[0m \u001b[0mcond\u001b[0m\u001b[0;34m==\u001b[0m\u001b[0;32mTrue\u001b[0m\u001b[0;34m:\u001b[0m\u001b[0;34m\u001b[0m\u001b[0m\n\u001b[1;32m     12\u001b[0m         \u001b[0mprint\u001b[0m\u001b[0;34m(\u001b[0m\u001b[0mk\u001b[0m\u001b[0;34m)\u001b[0m\u001b[0;34m\u001b[0m\u001b[0m\n\u001b[0;32m---> 13\u001b[0;31m         \u001b[0mcond\u001b[0m\u001b[0;34m,\u001b[0m\u001b[0mk\u001b[0m\u001b[0;34m,\u001b[0m\u001b[0ma1\u001b[0m\u001b[0;34m,\u001b[0m\u001b[0ma2\u001b[0m\u001b[0;34m,\u001b[0m\u001b[0ma3\u001b[0m\u001b[0;34m,\u001b[0m\u001b[0ma4\u001b[0m\u001b[0;34m=\u001b[0m\u001b[0mFRGone\u001b[0m\u001b[0;34m(\u001b[0m\u001b[0mcond\u001b[0m\u001b[0;34m,\u001b[0m\u001b[0mepsilon\u001b[0m\u001b[0;34m,\u001b[0m\u001b[0mlisty\u001b[0m\u001b[0;34m[\u001b[0m\u001b[0;34m-\u001b[0m\u001b[0;36m1\u001b[0m\u001b[0;34m]\u001b[0m\u001b[0;34m,\u001b[0m\u001b[0mj\u001b[0m\u001b[0;34m,\u001b[0m\u001b[0mk\u001b[0m\u001b[0;34m,\u001b[0m\u001b[0mlistx\u001b[0m\u001b[0;34m,\u001b[0m\u001b[0mlisty\u001b[0m\u001b[0;34m,\u001b[0m\u001b[0mlistdirec\u001b[0m\u001b[0;34m,\u001b[0m\u001b[0md\u001b[0m\u001b[0;34m)\u001b[0m\u001b[0;34m\u001b[0m\u001b[0m\n\u001b[0m\u001b[1;32m     14\u001b[0m     \u001b[0;32mreturn\u001b[0m \u001b[0;34m(\u001b[0m\u001b[0mk\u001b[0m\u001b[0;34m,\u001b[0m\u001b[0ma1\u001b[0m\u001b[0;34m,\u001b[0m\u001b[0ma2\u001b[0m\u001b[0;34m,\u001b[0m\u001b[0ma3\u001b[0m\u001b[0;34m,\u001b[0m\u001b[0ma4\u001b[0m\u001b[0;34m)\u001b[0m\u001b[0;34m\u001b[0m\u001b[0m\n",
      "\u001b[0;32m<ipython-input-90-5b728dc46320>\u001b[0m in \u001b[0;36mFRGone\u001b[0;34m(cond, epsilon, y, j, k, listx, listy, listdirec, d)\u001b[0m\n\u001b[1;32m      8\u001b[0m         \u001b[0md1\u001b[0m\u001b[0;34m=\u001b[0m\u001b[0md\u001b[0m\u001b[0;34m\u001b[0m\u001b[0m\n\u001b[1;32m      9\u001b[0m         \u001b[0mlistdirec\u001b[0m\u001b[0;34m.\u001b[0m\u001b[0mappend\u001b[0m\u001b[0;34m(\u001b[0m\u001b[0md1\u001b[0m\u001b[0;34m)\u001b[0m\u001b[0;34m\u001b[0m\u001b[0m\n\u001b[0;32m---> 10\u001b[0;31m         \u001b[0mlam\u001b[0m\u001b[0;34m=\u001b[0m\u001b[0mgoldstein\u001b[0m\u001b[0;34m(\u001b[0m\u001b[0;36m0\u001b[0m\u001b[0;34m,\u001b[0m\u001b[0mnp\u001b[0m\u001b[0;34m.\u001b[0m\u001b[0minf\u001b[0m\u001b[0;34m,\u001b[0m\u001b[0my1\u001b[0m\u001b[0;34m,\u001b[0m\u001b[0;36m0.5\u001b[0m\u001b[0;34m,\u001b[0m\u001b[0md1\u001b[0m\u001b[0;34m,\u001b[0m\u001b[0;36m2\u001b[0m\u001b[0;34m,\u001b[0m\u001b[0;36m.1\u001b[0m\u001b[0;34m)\u001b[0m\u001b[0;34m\u001b[0m\u001b[0m\n\u001b[0m\u001b[1;32m     11\u001b[0m         \u001b[0mld\u001b[0m\u001b[0;34m=\u001b[0m \u001b[0md1\u001b[0m\u001b[0;34m*\u001b[0m\u001b[0mlam\u001b[0m\u001b[0;34m\u001b[0m\u001b[0m\n\u001b[1;32m     12\u001b[0m         \u001b[0my2\u001b[0m \u001b[0;34m=\u001b[0m \u001b[0my1\u001b[0m\u001b[0;34m+\u001b[0m \u001b[0mld\u001b[0m\u001b[0;34m\u001b[0m\u001b[0m\n",
      "\u001b[0;32m<ipython-input-87-4e375ab4ab0d>\u001b[0m in \u001b[0;36mgoldstein\u001b[0;34m(alpha1, alpha2, x, alpha, d, t, rho)\u001b[0m\n\u001b[1;32m     10\u001b[0m             \u001b[0malpha\u001b[0m\u001b[0;34m=\u001b[0m \u001b[0;34m(\u001b[0m\u001b[0malpha1\u001b[0m\u001b[0;34m+\u001b[0m\u001b[0malpha2\u001b[0m\u001b[0;34m)\u001b[0m\u001b[0;34m/\u001b[0m\u001b[0;36m2\u001b[0m\u001b[0;34m\u001b[0m\u001b[0m\n\u001b[1;32m     11\u001b[0m             \u001b[0ml\u001b[0m\u001b[0;34m.\u001b[0m\u001b[0mappend\u001b[0m\u001b[0;34m(\u001b[0m\u001b[0malpha\u001b[0m\u001b[0;34m)\u001b[0m\u001b[0;34m\u001b[0m\u001b[0m\n\u001b[0;32m---> 12\u001b[0;31m             \u001b[0;32mif\u001b[0m \u001b[0;34m(\u001b[0m\u001b[0mphi\u001b[0m\u001b[0;34m(\u001b[0m\u001b[0mx\u001b[0m\u001b[0;34m,\u001b[0m\u001b[0malpha\u001b[0m\u001b[0;34m,\u001b[0m\u001b[0md\u001b[0m\u001b[0;34m)\u001b[0m  \u001b[0;34m<=\u001b[0m \u001b[0;34m(\u001b[0m\u001b[0mf\u001b[0m\u001b[0;34m(\u001b[0m\u001b[0mx\u001b[0m\u001b[0;34m)\u001b[0m \u001b[0;34m+\u001b[0m\u001b[0;34m(\u001b[0m\u001b[0;34m(\u001b[0m\u001b[0mgrad\u001b[0m\u001b[0;34m(\u001b[0m\u001b[0mx\u001b[0m\u001b[0;34m)\u001b[0m\u001b[0;34m)\u001b[0m\u001b[0;34m.\u001b[0m\u001b[0mdot\u001b[0m\u001b[0;34m(\u001b[0m\u001b[0md\u001b[0m\u001b[0;34m)\u001b[0m\u001b[0;34m)\u001b[0m\u001b[0;34m*\u001b[0m\u001b[0mrho\u001b[0m\u001b[0;34m*\u001b[0m\u001b[0malpha\u001b[0m\u001b[0;34m)\u001b[0m\u001b[0;34m)\u001b[0m\u001b[0;34m:\u001b[0m\u001b[0;34m\u001b[0m\u001b[0m\n\u001b[0m\u001b[1;32m     13\u001b[0m                 \u001b[0mcond1\u001b[0m\u001b[0;34m=\u001b[0m\u001b[0;32mTrue\u001b[0m\u001b[0;34m\u001b[0m\u001b[0m\n\u001b[1;32m     14\u001b[0m         \u001b[0;32mif\u001b[0m \u001b[0;34m(\u001b[0m\u001b[0mphi\u001b[0m\u001b[0;34m(\u001b[0m\u001b[0mx\u001b[0m\u001b[0;34m,\u001b[0m\u001b[0malpha\u001b[0m\u001b[0;34m,\u001b[0m\u001b[0md\u001b[0m\u001b[0;34m)\u001b[0m  \u001b[0;34m>=\u001b[0m \u001b[0mf\u001b[0m\u001b[0;34m(\u001b[0m\u001b[0mx\u001b[0m\u001b[0;34m)\u001b[0m \u001b[0;34m+\u001b[0m\u001b[0;34m(\u001b[0m\u001b[0;34m(\u001b[0m\u001b[0mgrad\u001b[0m\u001b[0;34m(\u001b[0m\u001b[0mx\u001b[0m\u001b[0;34m)\u001b[0m\u001b[0;34m)\u001b[0m\u001b[0;34m.\u001b[0m\u001b[0mdot\u001b[0m\u001b[0;34m(\u001b[0m\u001b[0md\u001b[0m\u001b[0;34m)\u001b[0m\u001b[0;34m)\u001b[0m\u001b[0;34m*\u001b[0m\u001b[0;34m(\u001b[0m\u001b[0;36m1\u001b[0m\u001b[0;34m-\u001b[0m\u001b[0mrho\u001b[0m\u001b[0;34m)\u001b[0m\u001b[0;34m*\u001b[0m\u001b[0malpha\u001b[0m\u001b[0;34m)\u001b[0m\u001b[0;34m:\u001b[0m\u001b[0;34m\u001b[0m\u001b[0m\n",
      "\u001b[0;32m<ipython-input-92-413406595480>\u001b[0m in \u001b[0;36mgrad\u001b[0;34m(x)\u001b[0m\n\u001b[1;32m      1\u001b[0m \u001b[0;32mdef\u001b[0m \u001b[0mgrad\u001b[0m\u001b[0;34m(\u001b[0m\u001b[0mx\u001b[0m\u001b[0;34m)\u001b[0m\u001b[0;34m:\u001b[0m\u001b[0;34m\u001b[0m\u001b[0m\n\u001b[0;32m----> 2\u001b[0;31m     \u001b[0ma\u001b[0m\u001b[0;34m=\u001b[0m\u001b[0mnp\u001b[0m\u001b[0;34m.\u001b[0m\u001b[0marray\u001b[0m\u001b[0;34m(\u001b[0m\u001b[0;34m[\u001b[0m\u001b[0;36m4\u001b[0m\u001b[0;34m*\u001b[0m\u001b[0;34m(\u001b[0m\u001b[0mx\u001b[0m\u001b[0;34m[\u001b[0m\u001b[0;36m0\u001b[0m\u001b[0;34m]\u001b[0m\u001b[0;34m-\u001b[0m\u001b[0;36m2\u001b[0m\u001b[0;34m)\u001b[0m\u001b[0;34m**\u001b[0m\u001b[0;36m3\u001b[0m \u001b[0;34m+\u001b[0m\u001b[0;36m2\u001b[0m\u001b[0;34m*\u001b[0m\u001b[0;34m(\u001b[0m\u001b[0mx\u001b[0m\u001b[0;34m[\u001b[0m\u001b[0;36m0\u001b[0m\u001b[0;34m]\u001b[0m\u001b[0;34m-\u001b[0m\u001b[0;36m2\u001b[0m\u001b[0;34m*\u001b[0m\u001b[0mx\u001b[0m\u001b[0;34m[\u001b[0m\u001b[0;36m1\u001b[0m\u001b[0;34m]\u001b[0m\u001b[0;34m)\u001b[0m \u001b[0;34m,\u001b[0m \u001b[0;34m-\u001b[0m\u001b[0;36m4\u001b[0m\u001b[0;34m*\u001b[0m\u001b[0;34m(\u001b[0m\u001b[0mx\u001b[0m\u001b[0;34m[\u001b[0m\u001b[0;36m0\u001b[0m\u001b[0;34m]\u001b[0m\u001b[0;34m-\u001b[0m\u001b[0;36m2\u001b[0m\u001b[0;34m*\u001b[0m\u001b[0mx\u001b[0m\u001b[0;34m[\u001b[0m\u001b[0;36m1\u001b[0m\u001b[0;34m]\u001b[0m\u001b[0;34m)\u001b[0m\u001b[0;34m]\u001b[0m \u001b[0;34m)\u001b[0m\u001b[0;34m\u001b[0m\u001b[0m\n\u001b[0m\u001b[1;32m      3\u001b[0m     \u001b[0;32mreturn\u001b[0m\u001b[0;34m(\u001b[0m\u001b[0ma\u001b[0m\u001b[0;34m)\u001b[0m\u001b[0;34m\u001b[0m\u001b[0m\n",
      "\u001b[0;31mKeyboardInterrupt\u001b[0m: "
     ]
    }
   ],
   "source": [
    "full=FRGfull(.01,(0,0))"
   ]
  },
  {
   "cell_type": "code",
   "execution_count": 78,
   "metadata": {},
   "outputs": [
    {
     "data": {
      "text/plain": [
       "(7,\n",
       " 1,\n",
       " [(1, 1),\n",
       "  array([2.22044605e-16, 1.00000000e+00]),\n",
       "  array([0.09615385, 0.73076923]),\n",
       "  array([4.16333634e-16, 6.34615385e-01]),\n",
       "  array([-0.00924556,  0.66050296]),\n",
       "  array([1.26634814e-16, 6.69748521e-01]),\n",
       "  array([0.000889  , 0.66725933])],\n",
       " [(1, 1),\n",
       "  (1, 1),\n",
       "  array([0.25, 1.25]),\n",
       "  array([2.22044605e-16, 1.00000000e+00]),\n",
       "  array([2.22044605e-16, 1.00000000e+00]),\n",
       "  array([0.125, 0.75 ]),\n",
       "  array([0.09615385, 0.73076923]),\n",
       "  array([0.09615385, 0.73076923]),\n",
       "  array([5.55111512e-17, 6.82692308e-01]),\n",
       "  array([4.16333634e-16, 6.34615385e-01]),\n",
       "  array([4.16333634e-16, 6.34615385e-01]),\n",
       "  array([-0.01201923,  0.65865385]),\n",
       "  array([-0.00924556,  0.66050296]),\n",
       "  array([-0.00924556,  0.66050296]),\n",
       "  array([-5.20417043e-17,  6.65125740e-01]),\n",
       "  array([1.26634814e-16, 6.69748521e-01]),\n",
       "  array([1.26634814e-16, 6.69748521e-01]),\n",
       "  array([0.0011557 , 0.66743713]),\n",
       "  array([0.000889  , 0.66725933])],\n",
       " [array([-3.,  1.]),\n",
       "  array([-4., -0.]),\n",
       "  array([ 1., -2.]),\n",
       "  array([ 0.76923077, -2.15384615]),\n",
       "  array([-0.19230769, -0.09615385]),\n",
       "  array([-0.19230769, -0.19230769]),\n",
       "  array([-0.09615385,  0.19230769]),\n",
       "  array([-0.0739645 ,  0.20710059]),\n",
       "  array([0.01849112, 0.00924556]),\n",
       "  array([0.01849112, 0.01849112]),\n",
       "  array([ 0.00924556, -0.01849112]),\n",
       "  array([ 0.00711197, -0.01991352])])"
      ]
     },
     "execution_count": 78,
     "metadata": {},
     "output_type": "execute_result"
    }
   ],
   "source": [
    "full"
   ]
  },
  {
   "cell_type": "code",
   "execution_count": 79,
   "metadata": {},
   "outputs": [
    {
     "data": {
      "text/plain": [
       "(True,\n",
       " 2,\n",
       " 2,\n",
       " [array([0, 0])],\n",
       " [array([0, 0]), array([0, 0])],\n",
       " [array([2, 6]), array([-0.6875,  0.4375])])"
      ]
     },
     "execution_count": 79,
     "metadata": {},
     "output_type": "execute_result"
    }
   ],
   "source": [
    "FRGone(True,.001,np.array([0,0]),1,1,[np.array([0,0])],[np.array([0,0])],[],np.array([2,6]))"
   ]
  },
  {
   "cell_type": "code",
   "execution_count": null,
   "metadata": {},
   "outputs": [],
   "source": []
  }
 ],
 "metadata": {
  "kernelspec": {
   "display_name": "Python 3",
   "language": "python",
   "name": "python3"
  },
  "language_info": {
   "codemirror_mode": {
    "name": "ipython",
    "version": 3
   },
   "file_extension": ".py",
   "mimetype": "text/x-python",
   "name": "python",
   "nbconvert_exporter": "python",
   "pygments_lexer": "ipython3",
   "version": "3.5.3"
  }
 },
 "nbformat": 4,
 "nbformat_minor": 2
}
