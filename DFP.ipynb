{
 "cells": [
  {
   "cell_type": "code",
   "execution_count": 1,
   "metadata": {},
   "outputs": [],
   "source": [
    "#https://stackoverflow.com/questions/23566515/multiplication-of-1d-arrays-in-numpy"
   ]
  },
  {
   "cell_type": "code",
   "execution_count": 2,
   "metadata": {},
   "outputs": [],
   "source": [
    "import numpy as np\n",
    "import copy"
   ]
  },
  {
   "cell_type": "code",
   "execution_count": 3,
   "metadata": {},
   "outputs": [],
   "source": [
    "def f(x):\n",
    "    a=2*x[0]**2+ 3*x[1]**2 -3*x[0]*x[1] +2*x[0] -4*x[1]\n",
    "    return a"
   ]
  },
  {
   "cell_type": "code",
   "execution_count": 4,
   "metadata": {},
   "outputs": [],
   "source": [
    "def grad(x):\n",
    "    a=np.array([4*x[0]-3*x[1]+2,6*x[1]-3*x[0]-4])\n",
    "    return(a)"
   ]
  },
  {
   "cell_type": "code",
   "execution_count": 5,
   "metadata": {},
   "outputs": [],
   "source": [
    "def normgrad(x):\n",
    "    a=grad(x)\n",
    "    b=(a[0]**2 + a[1]**2)**(.5)\n",
    "    return b"
   ]
  },
  {
   "cell_type": "markdown",
   "metadata": {},
   "source": [
    "# Line Search"
   ]
  },
  {
   "cell_type": "code",
   "execution_count": 6,
   "metadata": {},
   "outputs": [],
   "source": [
    "alpha=0.5\n",
    "def phi(x,alpha,d):\n",
    "    ld=d*alpha\n",
    "    y=x+ld\n",
    "    phia=f(y)\n",
    "    return phia"
   ]
  },
  {
   "cell_type": "code",
   "execution_count": 7,
   "metadata": {},
   "outputs": [],
   "source": [
    "alpha1=0\n",
    "alpha2=np.inf\n",
    "alpha0=0.5 #(given in the question as x_0 = 0.5)\n",
    "rho=0.1 #( do )\n",
    "t=3\n",
    "l=[]\n",
    "l.append(alpha)"
   ]
  },
  {
   "cell_type": "code",
   "execution_count": 8,
   "metadata": {},
   "outputs": [],
   "source": [
    "def goldstein(alpha1,alpha2,x,alpha,d,t,rho):\n",
    "    cond1=True\n",
    "    cond2=False\n",
    "    val=phi(x,alpha,d) \n",
    "    while cond2==False:\n",
    "        r=alpha+1\n",
    "        if( phi(x,alpha,d)  > (f(x) +((grad(x)).dot(d))*rho*alpha)):\n",
    "            cond1= False\n",
    "        while cond1==False:\n",
    "            r=alpha\n",
    "            alpha2=alpha\n",
    "            alpha= (alpha1+alpha2)/2\n",
    "            l.append(alpha)\n",
    "            if (phi(x,alpha,d)  <= (f(x) +((grad(x)).dot(d))*rho*alpha)):\n",
    "                cond1=True\n",
    "        if (phi(x,alpha,d)  >= f(x) +((grad(x)).dot(d))*(1-rho)*alpha): \n",
    "            cond2= True\n",
    "        else:\n",
    "            r=alpha\n",
    "            alpha1=alpha\n",
    "            if alpha2<np.inf:\n",
    "                alpha=(alpha1+alpha2)/2\n",
    "                l.append(alpha)\n",
    "            else:\n",
    "                alpha=t*alpha\n",
    "                l.append(alpha)\n",
    "        #if (abs(r-alpha)< 10**(-4) ):\n",
    "        #    break\n",
    "    return alpha"
   ]
  },
  {
   "cell_type": "markdown",
   "metadata": {},
   "source": [
    "# DFP"
   ]
  },
  {
   "cell_type": "code",
   "execution_count": 9,
   "metadata": {},
   "outputs": [],
   "source": [
    "def p(lam,d):\n",
    "    a=lam*d\n",
    "    return a"
   ]
  },
  {
   "cell_type": "code",
   "execution_count": 10,
   "metadata": {},
   "outputs": [],
   "source": [
    "def graddiff(y2,y1):\n",
    "    a=grad(y2)\n",
    "    b=grad(y1)\n",
    "    c=b-a\n",
    "    return c"
   ]
  },
  {
   "cell_type": "code",
   "execution_count": 11,
   "metadata": {},
   "outputs": [],
   "source": [
    "#https://stackoverflow.com/questions/3890621/how-does-multiplication-differ-for-numpy-matrix-vs-array-classes"
   ]
  },
  {
   "cell_type": "code",
   "execution_count": 12,
   "metadata": {},
   "outputs": [],
   "source": [
    "def identity():\n",
    "    a=np.matrix(\"1,0;0,1\")\n",
    "    return a"
   ]
  },
  {
   "cell_type": "code",
   "execution_count": 13,
   "metadata": {},
   "outputs": [],
   "source": [
    "D1=np.identity(2)"
   ]
  },
  {
   "cell_type": "markdown",
   "metadata": {},
   "source": [
    "# Actual algorithm"
   ]
  },
  {
   "cell_type": "code",
   "execution_count": 14,
   "metadata": {},
   "outputs": [],
   "source": [
    "def dfpfull(epsilon,xold,D):\n",
    "    listx=[]\n",
    "    listy=[]\n",
    "    listdirec=[]\n",
    "    k=1\n",
    "    j=1\n",
    "    listx.append(xold)\n",
    "    y1=copy.deepcopy(xold)\n",
    "    listy.append(xold)\n",
    "    cond=True\n",
    "    while cond==True:\n",
    "        cond,k,a1,a2,a3,a4,a5=DFPone(cond,epsilon,listy[-1],listx[-1],j,k,listx,listy,listdirec,D)\n",
    "        listy.append(a5)\n",
    "    return (k,a1,a2,a3,a4)"
   ]
  },
  {
   "cell_type": "code",
   "execution_count": 15,
   "metadata": {},
   "outputs": [],
   "source": [
    "def DFPone(cond,epsilon,y,xold,j,k,listx,listy,listdirec,D): #input y is a numpy array\n",
    "    #y1=copy.deepcopy(x1)\n",
    "    if normgrad(y) <epsilon :\n",
    "        cond=False\n",
    "        listy.pop()\n",
    "        return (cond,k,j,listx,listy,listdirec,y)\n",
    "    elif j == 1:\n",
    "        #listy.append(y)\n",
    "        y1=copy.deepcopy(y) \n",
    "        g=grad(y1)\n",
    "        d1= -D.dot(g)\n",
    "        listdirec.append(d1)\n",
    "        lam=goldstein(0,np.inf,y1,0.5,d1,3,.1)\n",
    "        ld=d1*lam\n",
    "        y2= y1 + ld\n",
    "        listy.append(y2) \n",
    "        D= dfptwo(ld,y1,y2,D)\n",
    "        j =j+1\n",
    "        rr=DFPone(cond,epsilon,y2,xold,j,k,listx,listy,listdirec,D)\n",
    "        return rr\n",
    "    else:\n",
    "        y2= copy.deepcopy(y)\n",
    "        g=grad(y2)\n",
    "        d2= -D.dot(g)\n",
    "        listdirec.append(d2)\n",
    "        lam=goldstein(0,np.inf,y2,0.5,d2,3,.1) \n",
    "        ld=d2*lam\n",
    "        y3= y2 + ld\n",
    "        #listy.append(y3) \n",
    "        listx.append(y3) \n",
    "        k =k+1\n",
    "        j=1\n",
    "        y1=y3\n",
    "        D=np.identity(2)\n",
    "    return (cond,k,j,listx,listy,listdirec,y1)"
   ]
  },
  {
   "cell_type": "code",
   "execution_count": 16,
   "metadata": {},
   "outputs": [],
   "source": [
    "def dfptwo(ld,y1,y2,D):\n",
    "    #a=np.matrix(ld) #dimension is 1x2\n",
    "    a=ld # numpy array \n",
    "    q= graddiff(y2,y1) # numpy array\n",
    "    #q=np.matrix(diff) #dimension is 1x2\n",
    "    ppt=np.dot(a[:,None],a[None,:])\n",
    "    #print(ppt)\n",
    "    ptp=a.dot(a)\n",
    "    qqt=np.dot(q[:,None],q[None,:])\n",
    "    term2=ppt/ptp\n",
    "    term3=(D.dot(qqt.dot(D)))/(q.dot(D.dot(q)))\n",
    "    final=D + term2 - term3 \n",
    "    return final"
   ]
  },
  {
   "cell_type": "markdown",
   "metadata": {},
   "source": [
    "# Outputs"
   ]
  },
  {
   "cell_type": "code",
   "execution_count": 17,
   "metadata": {},
   "outputs": [],
   "source": [
    "full=dfpfull(.000001,np.array([0,0]),D=np.identity(2))"
   ]
  },
  {
   "cell_type": "code",
   "execution_count": 18,
   "metadata": {},
   "outputs": [
    {
     "data": {
      "text/plain": [
       "(6,\n",
       " 1,\n",
       " [array([0, 0]),\n",
       "  array([-0.01923077,  0.65384615]),\n",
       "  array([2.94035629e-16, 6.68269231e-01]),\n",
       "  array([4.62278107e-05, 6.66697485e-01]),\n",
       "  array([1.54326015e-16, 6.66662814e-01]),\n",
       "  array([-1.11124545e-07,  6.66666593e-01])],\n",
       " [array([0, 0]),\n",
       "  array([-0.25,  0.5 ]),\n",
       "  array([-0.01923077,  0.65384615]),\n",
       "  array([1.38777878e-16, 6.63461538e-01]),\n",
       "  array([2.94035629e-16, 6.68269231e-01]),\n",
       "  array([6.00961538e-04, 6.67067308e-01]),\n",
       "  array([4.62278107e-05, 6.66697485e-01]),\n",
       "  array([3.22008045e-17, 6.66674371e-01]),\n",
       "  array([1.54326015e-16, 6.66662814e-01]),\n",
       "  array([-1.44461908e-06,  6.66665704e-01]),\n",
       "  array([-1.11124545e-07,  6.66666593e-01])],\n",
       " [array([-2.,  4.]),\n",
       "  array([0.46153846, 0.30769231]),\n",
       "  array([0.03846154, 0.01923077]),\n",
       "  array([6.21031004e-16, 1.92307692e-02]),\n",
       "  array([ 0.00480769, -0.00961538]),\n",
       "  array([-0.00110947, -0.00073964]),\n",
       "  array([-9.24556213e-05, -4.62278107e-05]),\n",
       "  array([ 4.88500841e-16, -4.62278107e-05]),\n",
       "  array([-1.15569527e-05,  2.31139053e-05]),\n",
       "  array([2.66698908e-06, 1.77799272e-06])])"
      ]
     },
     "execution_count": 18,
     "metadata": {},
     "output_type": "execute_result"
    }
   ],
   "source": [
    "full"
   ]
  },
  {
   "cell_type": "code",
   "execution_count": null,
   "metadata": {},
   "outputs": [],
   "source": []
  },
  {
   "cell_type": "markdown",
   "metadata": {},
   "source": [
    "# FRG"
   ]
  },
  {
   "cell_type": "code",
   "execution_count": 19,
   "metadata": {},
   "outputs": [],
   "source": [
    "def FRGfull(epsilon,xold):\n",
    "    listx=[]\n",
    "    listy=[]\n",
    "    listdirec=[]\n",
    "    k=1\n",
    "    j=1\n",
    "    d=-grad(xold)\n",
    "    listx.append(xold)\n",
    "    listy.append(xold)\n",
    "    cond=True\n",
    "    while cond==True:\n",
    "        d=-grad(listy[-1])\n",
    "        cond,k,a1,a2,a3,a4,a5=FRGone(cond,epsilon,listy[-1],j,k,listx,listy,listdirec,d)\n",
    "        listy.append(a5)\n",
    "    return (k,a1,a2,a3,a4)"
   ]
  },
  {
   "cell_type": "code",
   "execution_count": 20,
   "metadata": {},
   "outputs": [],
   "source": [
    "def FRGone(cond,epsilon,y,j,k,listx,listy,listdirec,d):\n",
    "    if  normgrad(y)< epsilon :\n",
    "        cond =False\n",
    "        listy.pop()\n",
    "        return (cond,k,j,listx,listy,listdirec,y)\n",
    "    elif j==1 :\n",
    "        #listy.append(y)\n",
    "        y1= copy.deepcopy(y)\n",
    "        d1=d\n",
    "        listdirec.append(d1)\n",
    "        lam=goldstein(0,np.inf,y1,0.5,d1,3,.1)\n",
    "        ld= d1*lam\n",
    "        y2 = y1+ ld\n",
    "        listy.append(y2)\n",
    "        g=-grad(y2)\n",
    "        term2= (normgrad(y2)/normgrad(y1))**2\n",
    "        d2 = g + d1*term2 \n",
    "        d=d2\n",
    "        #listdirec.append(d2)\n",
    "        j =j+1\n",
    "        rr= FRGone(cond,epsilon,y2,j,k,listx,listy,listdirec,d)\n",
    "        \n",
    "        return rr\n",
    "    else:\n",
    "        y2 =copy.deepcopy(y)\n",
    "        d2=d\n",
    "        listdirec.append(d2)\n",
    "        lam=goldstein(0,np.inf,y2,0.5,d2,3,.1)\n",
    "        ld = d2*lam\n",
    "        y3 = y2 +ld\n",
    "        #listy.append(y3)\n",
    "        listx.append(y3)\n",
    "        y1 =y3\n",
    "        k=k+1\n",
    "        j=1\n",
    "    \n",
    "    return (cond,k,j,listx,listy,listdirec,y3)    \n",
    "        "
   ]
  },
  {
   "cell_type": "code",
   "execution_count": 21,
   "metadata": {},
   "outputs": [],
   "source": [
    "full=dfpfull(.0001,np.array([0,0]),D=np.identity(2))\n",
    "rfull =FRGfull(.0001,np.array([0,0]))"
   ]
  },
  {
   "cell_type": "code",
   "execution_count": 22,
   "metadata": {},
   "outputs": [
    {
     "data": {
      "text/plain": [
       "[array([-2.,  4.]),\n",
       " array([0.46153846, 0.30769231]),\n",
       " array([0.03846154, 0.01923077]),\n",
       " array([6.21031004e-16, 1.92307692e-02]),\n",
       " array([ 0.00480769, -0.00961538]),\n",
       " array([-0.00110947, -0.00073964]),\n",
       " array([-9.24556213e-05, -4.62278107e-05])]"
      ]
     },
     "execution_count": 22,
     "metadata": {},
     "output_type": "execute_result"
    }
   ],
   "source": [
    "full[4]"
   ]
  },
  {
   "cell_type": "code",
   "execution_count": 23,
   "metadata": {},
   "outputs": [
    {
     "data": {
      "text/plain": [
       "[array([-2,  4]),\n",
       " array([0.46875, 0.3125 ]),\n",
       " array([0.03125 , 0.015625]),\n",
       " array([0.        , 0.01953125]),\n",
       " array([-0.00048828,  0.00097656]),\n",
       " array([1.14440918e-04, 7.62939453e-05])]"
      ]
     },
     "execution_count": 23,
     "metadata": {},
     "output_type": "execute_result"
    }
   ],
   "source": [
    "rfull[4]"
   ]
  },
  {
   "cell_type": "code",
   "execution_count": 24,
   "metadata": {},
   "outputs": [
    {
     "data": {
      "text/plain": [
       "[array([0, 0]),\n",
       " array([-0.25,  0.5 ]),\n",
       " array([-0.01923077,  0.65384615]),\n",
       " array([1.38777878e-16, 6.63461538e-01]),\n",
       " array([2.94035629e-16, 6.68269231e-01]),\n",
       " array([6.00961538e-04, 6.67067308e-01]),\n",
       " array([4.62278107e-05, 6.66697485e-01]),\n",
       " array([3.22008045e-17, 6.66674371e-01])]"
      ]
     },
     "execution_count": 24,
     "metadata": {},
     "output_type": "execute_result"
    }
   ],
   "source": [
    "full[3]"
   ]
  },
  {
   "cell_type": "code",
   "execution_count": 25,
   "metadata": {},
   "outputs": [
    {
     "data": {
      "text/plain": [
       "[array([0, 0]),\n",
       " array([-0.25,  0.5 ]),\n",
       " array([-0.015625,  0.65625 ]),\n",
       " array([0.       , 0.6640625]),\n",
       " array([0.        , 0.66650391]),\n",
       " array([-6.10351562e-05,  6.66625977e-01]),\n",
       " array([-3.81469727e-06,  6.66664124e-01])]"
      ]
     },
     "execution_count": 25,
     "metadata": {},
     "output_type": "execute_result"
    }
   ],
   "source": [
    "rfull[3]"
   ]
  },
  {
   "cell_type": "code",
   "execution_count": 26,
   "metadata": {},
   "outputs": [
    {
     "data": {
      "text/plain": [
       "[array([0, 0]),\n",
       " array([-0.25,  0.5 ]),\n",
       " array([-0.015625,  0.65625 ]),\n",
       " array([0.       , 0.6640625]),\n",
       " array([0.        , 0.66650391]),\n",
       " array([-6.10351562e-05,  6.66625977e-01]),\n",
       " array([-3.81469727e-06,  6.66664124e-01])]"
      ]
     },
     "execution_count": 26,
     "metadata": {},
     "output_type": "execute_result"
    }
   ],
   "source": [
    "rfull[3]"
   ]
  }
 ],
 "metadata": {
  "kernelspec": {
   "display_name": "Python 3",
   "language": "python",
   "name": "python3"
  },
  "language_info": {
   "codemirror_mode": {
    "name": "ipython",
    "version": 3
   },
   "file_extension": ".py",
   "mimetype": "text/x-python",
   "name": "python",
   "nbconvert_exporter": "python",
   "pygments_lexer": "ipython3",
   "version": "3.5.3"
  }
 },
 "nbformat": 4,
 "nbformat_minor": 2
}
